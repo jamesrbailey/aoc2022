{
 "cells": [
  {
   "cell_type": "code",
   "execution_count": 42,
   "metadata": {},
   "outputs": [
    {
     "name": "stdout",
     "output_type": "stream",
     "text": [
      "6354 2651\n"
     ]
    }
   ],
   "source": [
    "import numpy as np\n",
    "input = [[p[0], int(p[1])] for x in open(\"input.txt\").read().splitlines() if (p := x.split())]\n",
    "\n",
    "dirs = {'R' : [1,0], 'L' : [-1,0], 'U' : [0,1], 'D' : [0,-1]}\n",
    "k = np.zeros((10,2))\n",
    "\n",
    "p1,p2 = set([(0,0)]), set([(0,0)])\n",
    "\n",
    "for dir,dist in input:\n",
    "    for i in range(dist):\n",
    "        k[0] += dirs[dir]\n",
    "        for i,t in enumerate(k[1:]):\n",
    "            disp = k[i] - t\n",
    "            if (np.abs(disp) > 1).any():\n",
    "                t += np.clip(disp, -1, +1)\n",
    "\n",
    "        p1.add(tuple(k[1]))\n",
    "        p2.add(tuple(k[-1]))\n",
    "\n",
    "print(len(p1),len(p2))"
   ]
  }
 ],
 "metadata": {
  "kernelspec": {
   "display_name": "Python 3.8.13 ('base')",
   "language": "python",
   "name": "python3"
  },
  "language_info": {
   "codemirror_mode": {
    "name": "ipython",
    "version": 3
   },
   "file_extension": ".py",
   "mimetype": "text/x-python",
   "name": "python",
   "nbconvert_exporter": "python",
   "pygments_lexer": "ipython3",
   "version": "3.8.13"
  },
  "orig_nbformat": 4,
  "vscode": {
   "interpreter": {
    "hash": "6197c5ff5d04b833501a6c37bb92e3da611ff923bcc49eb0fb057ff5df1e323a"
   }
  }
 },
 "nbformat": 4,
 "nbformat_minor": 2
}
