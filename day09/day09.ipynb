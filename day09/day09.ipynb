{
 "cells": [
  {
   "cell_type": "code",
   "execution_count": 22,
   "metadata": {},
   "outputs": [
    {
     "name": "stdout",
     "output_type": "stream",
     "text": [
      "[0, 0]\n",
      "13\n"
     ]
    }
   ],
   "source": [
    "path = \"input.txt\"\n",
    "path = \"example.txt\"\n",
    "input = [[p[0], int(p[1])] for x in open(path).read().splitlines() if (p := x.split())]\n",
    "# print(input)\n",
    "\n",
    "h = [0,0]\n",
    "t = [0,0]\n",
    "print(t)\n",
    "\n",
    "s = set( [(0,0)])\n",
    "# print(s)\n",
    "# s.add((0,0))\n",
    "# print(s)\n",
    "\n",
    "for dir,dist in input:\n",
    "    # print(dir,dist)\n",
    "    for i in range(dist):\n",
    "        if dir == 'R':\n",
    "            p[0] += 1\n",
    "        elif dir == 'L':\n",
    "            p[0] -= 1\n",
    "        elif dir == 'U':\n",
    "            p[1] += 1\n",
    "        elif dir == 'D':\n",
    "            p[1] -= 1\n",
    "    \n",
    "        if (p[0]==t[0]) and abs(p[1] - t[1]) > 1:\n",
    "            t[1] += 1 if (p[1] - t[1])>0 else -1\n",
    "        elif (p[1]==t[1]) and abs(p[0] - t[0]) > 1:\n",
    "            t[0] += 1 if (p[0] - t[0])>0 else -1\n",
    "        elif abs(p[0]-t[0])==1 and abs(p[1] - t[1]) > 1:\n",
    "            t[0] = p[0]\n",
    "            t[1] += 1 if (p[1] - t[1])>0 else -1\n",
    "        elif abs(p[1]-t[1])==1 and abs(p[0] - t[0]) > 1:\n",
    "            t[1] = p[1]\n",
    "            t[0] += 1 if (p[0] - t[0])>0 else -1\n",
    "        s.add(tuple(t))\n",
    "        # print(h,t)\n",
    "\n",
    "\n",
    "print(len(s))"
   ]
  },
  {
   "cell_type": "code",
   "execution_count": 5,
   "metadata": {},
   "outputs": [
    {
     "name": "stdout",
     "output_type": "stream",
     "text": [
      "[[0, 0], [0, 0], [0, 0], [0, 0], [0, 0], [0, 0], [0, 0], [0, 0], [0, 0]]\n",
      "m 0 1\n",
      "2651\n"
     ]
    }
   ],
   "source": [
    "path = \"input.txt\"\n",
    "# path = \"example2.txt\"\n",
    "input = [[p[0], int(p[1])] for x in open(path).read().splitlines() if (p := x.split())]\n",
    "# print(input)\n",
    "\n",
    "h = [0,0]\n",
    "tails = [[0,0] for x in range(9)]\n",
    "print(tails)\n",
    "\n",
    "s = set( [(0,0)])\n",
    "# print(s)\n",
    "# s.add((0,0))\n",
    "# print(s)\n",
    "mx,my=0,0\n",
    "z = 0\n",
    "for dir,dist in input:\n",
    "    # print(dir,dist)\n",
    "    for i in range(dist):\n",
    "        if dir == 'R':\n",
    "            h[0] += 1\n",
    "        elif dir == 'L':\n",
    "            h[0] -= 1\n",
    "        elif dir == 'U':\n",
    "            h[1] += 1\n",
    "        elif dir == 'D':\n",
    "            h[1] -= 1\n",
    "    \n",
    "        # print('h',h)\n",
    "        p = h\n",
    "\n",
    "        for i,t in enumerate(tails):\n",
    "            moved = True\n",
    "            while moved:\n",
    "                moved = False\n",
    "                mx = abs(p[0] - t[0])\n",
    "                my = abs(p[1] - t[1])\n",
    "\n",
    "                if (p[0]==t[0]) and abs(p[1] - t[1]) > 1:\n",
    "                    t[1] += 1 if (p[1] - t[1])>0 else -1\n",
    "                    moved = True\n",
    "                elif (p[1]==t[1]) and abs(p[0] - t[0]) > 1:\n",
    "                    t[0] += 1 if (p[0] - t[0])>0 else -1\n",
    "                    moved = True\n",
    "                elif abs(p[0]-t[0]) >=1 and abs(p[1] - t[1]) > 1:\n",
    "                    t[0] += 1 if (p[0] - t[0])>0 else -1\n",
    "                    t[1] += 1 if (p[1] - t[1])>0 else -1\n",
    "                    moved = True\n",
    "                elif abs(p[1]-t[1]) >=1 and abs(p[0] - t[0]) > 1:\n",
    "                    t[0] += 1 if (p[0] - t[0])>0 else -1\n",
    "                    t[1] += 1 if (p[1] - t[1])>0 else -1\n",
    "                    moved = True\n",
    "\n",
    "                s.add(tuple(tails[-1]))\n",
    "            \n",
    "            p = t\n",
    "            # print('t',i+1,t)\n",
    "        # print()\n",
    "        \n",
    "            # print(h,t)\n",
    "        z += 1\n",
    "print('m',mx,my)\n",
    "print(len(s))\n",
    "\n",
    "# 012\n",
    "#   h\n",
    "# t\n",
    "#\n",
    "#\n",
    "#\n",
    "# t"
   ]
  },
  {
   "cell_type": "code",
   "execution_count": 25,
   "metadata": {},
   "outputs": [
    {
     "name": "stdout",
     "output_type": "stream",
     "text": [
      "[[-1, 1], [2, 3]]\n"
     ]
    }
   ],
   "source": [
    "l = [[0,1],[2,3]]\n",
    "x = l[0]\n",
    "\n",
    "x[0] = -1\n",
    "print(l)"
   ]
  }
 ],
 "metadata": {
  "kernelspec": {
   "display_name": "Python 3.8.13 ('base')",
   "language": "python",
   "name": "python3"
  },
  "language_info": {
   "codemirror_mode": {
    "name": "ipython",
    "version": 3
   },
   "file_extension": ".py",
   "mimetype": "text/x-python",
   "name": "python",
   "nbconvert_exporter": "python",
   "pygments_lexer": "ipython3",
   "version": "3.8.13"
  },
  "orig_nbformat": 4,
  "vscode": {
   "interpreter": {
    "hash": "6197c5ff5d04b833501a6c37bb92e3da611ff923bcc49eb0fb057ff5df1e323a"
   }
  }
 },
 "nbformat": 4,
 "nbformat_minor": 2
}
