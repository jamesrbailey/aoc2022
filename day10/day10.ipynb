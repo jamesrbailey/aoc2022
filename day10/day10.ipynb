{
 "cells": [
  {
   "cell_type": "code",
   "execution_count": 2,
   "metadata": {},
   "outputs": [
    {
     "name": "stdout",
     "output_type": "stream",
     "text": [
      "12560\n",
      "[[###..#....###...##..####.###...##..#....]\n",
      " [#..#.#....#..#.#..#.#....#..#.#..#.#....]\n",
      " [#..#.#....#..#.#..#.###..###..#....#....]\n",
      " [###..#....###..####.#....#..#.#....#....]\n",
      " [#....#....#....#..#.#....#..#.#..#.#....]\n",
      " [#....####.#....#..#.#....###...##..####.]]\n"
     ]
    }
   ],
   "source": [
    "import numpy as np\n",
    "\n",
    "input = np.hstack(np.array([1,0]+[(0,int(x[5:])) if x[0] == 'a' else 0 for x in open(\"input.txt\").read().splitlines()],dtype=object))\n",
    "\n",
    "p1 = sum(np.take(np.prod([*enumerate(np.cumsum(input))],axis=1),[20,60,100,140,180,220]))\n",
    "p2 = np.array2string(np.array(['#' if np.abs((i)%40-x)<2 else '.' for i,x in enumerate(np.cumsum(input)[1:])])[:240].reshape((6,40)),separator='',max_line_width=200).replace(\"'\",'')\n",
    "\n",
    "print(p1)\n",
    "print(p2)"
   ]
  }
 ],
 "metadata": {
  "kernelspec": {
   "display_name": "Python 3.8.13 ('base')",
   "language": "python",
   "name": "python3"
  },
  "language_info": {
   "codemirror_mode": {
    "name": "ipython",
    "version": 3
   },
   "file_extension": ".py",
   "mimetype": "text/x-python",
   "name": "python",
   "nbconvert_exporter": "python",
   "pygments_lexer": "ipython3",
   "version": "3.8.13"
  },
  "orig_nbformat": 4,
  "vscode": {
   "interpreter": {
    "hash": "6197c5ff5d04b833501a6c37bb92e3da611ff923bcc49eb0fb057ff5df1e323a"
   }
  }
 },
 "nbformat": 4,
 "nbformat_minor": 2
}
