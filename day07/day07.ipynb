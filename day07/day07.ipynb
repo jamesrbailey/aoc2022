{
 "cells": [
  {
   "cell_type": "code",
   "execution_count": 145,
   "metadata": {},
   "outputs": [
    {
     "name": "stdout",
     "output_type": "stream",
     "text": [
      "1390824 7490863\n"
     ]
    }
   ],
   "source": [
    "input = ['pop' if y[:7]=='$ cd ..' else 'push' if y[:4] == '$ cd' else int(y.split(\" \")[0]) for y in [x for x in open(\"input.txt\").read().splitlines() if '$ ls' not in x and 'dir' not in x]]\n",
    "need = sum(x for x in input if isinstance(x, int)) - 4E7\n",
    "\n",
    "s,d = [],[]\n",
    "while cmd := input.pop(0) if len(input) else 'pop' if len(s) > 1 else False:\n",
    "    if cmd == 'pop':\n",
    "        v = s.pop()\n",
    "        d.append(v)\n",
    "        s[-1] += v\n",
    "    elif cmd == 'push':\n",
    "        s.append(0)\n",
    "    else:\n",
    "        s[-1] += cmd\n",
    "\n",
    "p1 = sum(x for x in d if x < 1E5)\n",
    "p2 = min(x for x in d if x >= need)\n",
    "print(p1,p2)"
   ]
  }
 ],
 "metadata": {
  "kernelspec": {
   "display_name": "Python 3.8.13 ('base')",
   "language": "python",
   "name": "python3"
  },
  "language_info": {
   "codemirror_mode": {
    "name": "ipython",
    "version": 3
   },
   "file_extension": ".py",
   "mimetype": "text/x-python",
   "name": "python",
   "nbconvert_exporter": "python",
   "pygments_lexer": "ipython3",
   "version": "3.8.13"
  },
  "orig_nbformat": 4,
  "vscode": {
   "interpreter": {
    "hash": "6197c5ff5d04b833501a6c37bb92e3da611ff923bcc49eb0fb057ff5df1e323a"
   }
  }
 },
 "nbformat": 4,
 "nbformat_minor": 2
}
