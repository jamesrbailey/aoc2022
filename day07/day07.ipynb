{
 "cells": [
  {
   "cell_type": "code",
   "execution_count": 181,
   "metadata": {},
   "outputs": [
    {
     "name": "stdout",
     "output_type": "stream",
     "text": [
      "1390824 7490863\n"
     ]
    }
   ],
   "source": [
    "input = [c for x in open(\"input.txt\").read().splitlines() if (c := 'pop' if x[:7]=='$ cd ..' else 'push' if x[:4] == '$ cd' else int(x.split(\" \")[0]) if x[0].isdigit() else False)]\n",
    "need = sum(x for x in input if isinstance(x, int)) - 4E7\n",
    "\n",
    "s,d = [],[]\n",
    "while cmd := input.pop(0) if len(input) else 'pop' if len(s) > 1 else False:\n",
    "    if cmd == 'pop':\n",
    "        v = s.pop()\n",
    "        d.append(v)\n",
    "        s[-1] += v\n",
    "    elif cmd == 'push':\n",
    "        s.append(0)\n",
    "    else:\n",
    "        s[-1] += cmd\n",
    "\n",
    "p1 = sum(x for x in d if x < 1E5)\n",
    "p2 = min(x for x in d if x >= need)\n",
    "print(p1,p2)"
   ]
  },
  {
   "cell_type": "code",
   "execution_count": 178,
   "metadata": {},
   "outputs": [
    {
     "ename": "UnexpectedToken",
     "evalue": "Unexpected token Token('__ANON_1', '$ cd') at line 5, column 1.\nExpected one of: \n\t* \n",
     "output_type": "error",
     "traceback": [
      "\u001b[1;31m---------------------------------------------------------------------------\u001b[0m",
      "\u001b[1;31mKeyError\u001b[0m                                  Traceback (most recent call last)",
      "File \u001b[1;32mc:\\Users\\JamesBailey\\anaconda3\\lib\\site-packages\\lark\\parsers\\lalr_parser.py:126\u001b[0m, in \u001b[0;36mParserState.feed_token\u001b[1;34m(self, token, is_end)\u001b[0m\n\u001b[0;32m    125\u001b[0m \u001b[39mtry\u001b[39;00m:\n\u001b[1;32m--> 126\u001b[0m     action, arg \u001b[39m=\u001b[39m states[state][token\u001b[39m.\u001b[39;49mtype]\n\u001b[0;32m    127\u001b[0m \u001b[39mexcept\u001b[39;00m \u001b[39mKeyError\u001b[39;00m:\n",
      "\u001b[1;31mKeyError\u001b[0m: '__ANON_1'",
      "\nDuring handling of the above exception, another exception occurred:\n",
      "\u001b[1;31mUnexpectedToken\u001b[0m                           Traceback (most recent call last)",
      "Cell \u001b[1;32mIn [178], line 42\u001b[0m\n\u001b[0;32m     19\u001b[0m \u001b[39minput\u001b[39m \u001b[39m=\u001b[39m \u001b[39mopen\u001b[39m(\u001b[39m\"\u001b[39m\u001b[39mexample.txt\u001b[39m\u001b[39m\"\u001b[39m)\u001b[39m.\u001b[39mread()\n\u001b[0;32m     21\u001b[0m \u001b[39minput\u001b[39m \u001b[39m=\u001b[39m \u001b[39m\"\"\"\u001b[39m\u001b[39m$ cd /\u001b[39m\n\u001b[0;32m     22\u001b[0m \u001b[39m$ ls\u001b[39m\n\u001b[0;32m     23\u001b[0m \u001b[39m14848514 b.txt\u001b[39m\n\u001b[1;32m   (...)\u001b[0m\n\u001b[0;32m     39\u001b[0m \u001b[39m5626152 d.ext\u001b[39m\n\u001b[0;32m     40\u001b[0m \u001b[39m7214296 k\u001b[39m\u001b[39m\"\"\"\u001b[39m\n\u001b[1;32m---> 42\u001b[0m parser\u001b[39m.\u001b[39;49mparse(\u001b[39minput\u001b[39;49m)\n",
      "File \u001b[1;32mc:\\Users\\JamesBailey\\anaconda3\\lib\\site-packages\\lark\\lark.py:581\u001b[0m, in \u001b[0;36mLark.parse\u001b[1;34m(self, text, start, on_error)\u001b[0m\n\u001b[0;32m    563\u001b[0m \u001b[39mdef\u001b[39;00m \u001b[39mparse\u001b[39m(\u001b[39mself\u001b[39m, text, start\u001b[39m=\u001b[39m\u001b[39mNone\u001b[39;00m, on_error\u001b[39m=\u001b[39m\u001b[39mNone\u001b[39;00m):\n\u001b[0;32m    564\u001b[0m     \u001b[39m\"\"\"Parse the given text, according to the options provided.\u001b[39;00m\n\u001b[0;32m    565\u001b[0m \n\u001b[0;32m    566\u001b[0m \u001b[39m    Parameters:\u001b[39;00m\n\u001b[1;32m   (...)\u001b[0m\n\u001b[0;32m    579\u001b[0m \n\u001b[0;32m    580\u001b[0m \u001b[39m    \"\"\"\u001b[39;00m\n\u001b[1;32m--> 581\u001b[0m     \u001b[39mreturn\u001b[39;00m \u001b[39mself\u001b[39;49m\u001b[39m.\u001b[39;49mparser\u001b[39m.\u001b[39;49mparse(text, start\u001b[39m=\u001b[39;49mstart, on_error\u001b[39m=\u001b[39;49mon_error)\n",
      "File \u001b[1;32mc:\\Users\\JamesBailey\\anaconda3\\lib\\site-packages\\lark\\parser_frontends.py:106\u001b[0m, in \u001b[0;36mParsingFrontend.parse\u001b[1;34m(self, text, start, on_error)\u001b[0m\n\u001b[0;32m    104\u001b[0m stream \u001b[39m=\u001b[39m text \u001b[39mif\u001b[39;00m \u001b[39mself\u001b[39m\u001b[39m.\u001b[39mskip_lexer \u001b[39melse\u001b[39;00m LexerThread(\u001b[39mself\u001b[39m\u001b[39m.\u001b[39mlexer, text)\n\u001b[0;32m    105\u001b[0m kw \u001b[39m=\u001b[39m {} \u001b[39mif\u001b[39;00m on_error \u001b[39mis\u001b[39;00m \u001b[39mNone\u001b[39;00m \u001b[39melse\u001b[39;00m {\u001b[39m'\u001b[39m\u001b[39mon_error\u001b[39m\u001b[39m'\u001b[39m: on_error}\n\u001b[1;32m--> 106\u001b[0m \u001b[39mreturn\u001b[39;00m \u001b[39mself\u001b[39;49m\u001b[39m.\u001b[39;49mparser\u001b[39m.\u001b[39;49mparse(stream, chosen_start, \u001b[39m*\u001b[39;49m\u001b[39m*\u001b[39;49mkw)\n",
      "File \u001b[1;32mc:\\Users\\JamesBailey\\anaconda3\\lib\\site-packages\\lark\\parsers\\lalr_parser.py:41\u001b[0m, in \u001b[0;36mLALR_Parser.parse\u001b[1;34m(self, lexer, start, on_error)\u001b[0m\n\u001b[0;32m     39\u001b[0m \u001b[39mdef\u001b[39;00m \u001b[39mparse\u001b[39m(\u001b[39mself\u001b[39m, lexer, start, on_error\u001b[39m=\u001b[39m\u001b[39mNone\u001b[39;00m):\n\u001b[0;32m     40\u001b[0m     \u001b[39mtry\u001b[39;00m:\n\u001b[1;32m---> 41\u001b[0m         \u001b[39mreturn\u001b[39;00m \u001b[39mself\u001b[39;49m\u001b[39m.\u001b[39;49mparser\u001b[39m.\u001b[39;49mparse(lexer, start)\n\u001b[0;32m     42\u001b[0m     \u001b[39mexcept\u001b[39;00m UnexpectedInput \u001b[39mas\u001b[39;00m e:\n\u001b[0;32m     43\u001b[0m         \u001b[39mif\u001b[39;00m on_error \u001b[39mis\u001b[39;00m \u001b[39mNone\u001b[39;00m:\n",
      "File \u001b[1;32mc:\\Users\\JamesBailey\\anaconda3\\lib\\site-packages\\lark\\parsers\\lalr_parser.py:171\u001b[0m, in \u001b[0;36m_Parser.parse\u001b[1;34m(self, lexer, start, value_stack, state_stack, start_interactive)\u001b[0m\n\u001b[0;32m    169\u001b[0m \u001b[39mif\u001b[39;00m start_interactive:\n\u001b[0;32m    170\u001b[0m     \u001b[39mreturn\u001b[39;00m InteractiveParser(\u001b[39mself\u001b[39m, parser_state, parser_state\u001b[39m.\u001b[39mlexer)\n\u001b[1;32m--> 171\u001b[0m \u001b[39mreturn\u001b[39;00m \u001b[39mself\u001b[39;49m\u001b[39m.\u001b[39;49mparse_from_state(parser_state)\n",
      "File \u001b[1;32mc:\\Users\\JamesBailey\\anaconda3\\lib\\site-packages\\lark\\parsers\\lalr_parser.py:188\u001b[0m, in \u001b[0;36m_Parser.parse_from_state\u001b[1;34m(self, state)\u001b[0m\n\u001b[0;32m    186\u001b[0m     \u001b[39mexcept\u001b[39;00m \u001b[39mNameError\u001b[39;00m:\n\u001b[0;32m    187\u001b[0m         \u001b[39mpass\u001b[39;00m\n\u001b[1;32m--> 188\u001b[0m     \u001b[39mraise\u001b[39;00m e\n\u001b[0;32m    189\u001b[0m \u001b[39mexcept\u001b[39;00m \u001b[39mException\u001b[39;00m \u001b[39mas\u001b[39;00m e:\n\u001b[0;32m    190\u001b[0m     \u001b[39mif\u001b[39;00m \u001b[39mself\u001b[39m\u001b[39m.\u001b[39mdebug:\n",
      "File \u001b[1;32mc:\\Users\\JamesBailey\\anaconda3\\lib\\site-packages\\lark\\parsers\\lalr_parser.py:179\u001b[0m, in \u001b[0;36m_Parser.parse_from_state\u001b[1;34m(self, state)\u001b[0m\n\u001b[0;32m    177\u001b[0m token \u001b[39m=\u001b[39m \u001b[39mNone\u001b[39;00m\n\u001b[0;32m    178\u001b[0m \u001b[39mfor\u001b[39;00m token \u001b[39min\u001b[39;00m state\u001b[39m.\u001b[39mlexer\u001b[39m.\u001b[39mlex(state):\n\u001b[1;32m--> 179\u001b[0m     state\u001b[39m.\u001b[39;49mfeed_token(token)\n\u001b[0;32m    181\u001b[0m end_token \u001b[39m=\u001b[39m Token\u001b[39m.\u001b[39mnew_borrow_pos(\u001b[39m'\u001b[39m\u001b[39m$END\u001b[39m\u001b[39m'\u001b[39m, \u001b[39m'\u001b[39m\u001b[39m'\u001b[39m, token) \u001b[39mif\u001b[39;00m token \u001b[39melse\u001b[39;00m Token(\u001b[39m'\u001b[39m\u001b[39m$END\u001b[39m\u001b[39m'\u001b[39m, \u001b[39m'\u001b[39m\u001b[39m'\u001b[39m, \u001b[39m0\u001b[39m, \u001b[39m1\u001b[39m, \u001b[39m1\u001b[39m)\n\u001b[0;32m    182\u001b[0m \u001b[39mreturn\u001b[39;00m state\u001b[39m.\u001b[39mfeed_token(end_token, \u001b[39mTrue\u001b[39;00m)\n",
      "File \u001b[1;32mc:\\Users\\JamesBailey\\anaconda3\\lib\\site-packages\\lark\\parsers\\lalr_parser.py:129\u001b[0m, in \u001b[0;36mParserState.feed_token\u001b[1;34m(self, token, is_end)\u001b[0m\n\u001b[0;32m    127\u001b[0m \u001b[39mexcept\u001b[39;00m \u001b[39mKeyError\u001b[39;00m:\n\u001b[0;32m    128\u001b[0m     expected \u001b[39m=\u001b[39m {s \u001b[39mfor\u001b[39;00m s \u001b[39min\u001b[39;00m states[state]\u001b[39m.\u001b[39mkeys() \u001b[39mif\u001b[39;00m s\u001b[39m.\u001b[39misupper()}\n\u001b[1;32m--> 129\u001b[0m     \u001b[39mraise\u001b[39;00m UnexpectedToken(token, expected, state\u001b[39m=\u001b[39m\u001b[39mself\u001b[39m, interactive_parser\u001b[39m=\u001b[39m\u001b[39mNone\u001b[39;00m)\n\u001b[0;32m    131\u001b[0m \u001b[39massert\u001b[39;00m arg \u001b[39m!=\u001b[39m end_state\n\u001b[0;32m    133\u001b[0m \u001b[39mif\u001b[39;00m action \u001b[39mis\u001b[39;00m Shift:\n\u001b[0;32m    134\u001b[0m     \u001b[39m# shift once and return\u001b[39;00m\n",
      "\u001b[1;31mUnexpectedToken\u001b[0m: Unexpected token Token('__ANON_1', '$ cd') at line 5, column 1.\nExpected one of: \n\t* \n"
     ]
    }
   ],
   "source": [
    "from lark import Lark, Token\n",
    "\n",
    "parser = Lark(r\"\"\"\n",
    "               dir  : \"$ cd\" CNAME* \"/\" (file* | dir*) \"$ cd ..\"?\n",
    "               file : NUMBER CNAME \".\"? CNAME?\n",
    "               ls   : \"ls\"\n",
    "               DIR_NAME : \"dir\" STRING\n",
    "\n",
    "               %import common.WS\n",
    "               %ignore WS\n",
    "               %ignore \"$ ls\"\n",
    "               %ignore DIR_NAME\n",
    "               %import common.ESCAPED_STRING -> STRING\n",
    "               %import common.CNAME\n",
    "               %import common.NUMBER\n",
    "               \"\"\",\n",
    "               start='dir',parser='lalr')\n",
    "\n",
    "input = open(\"example.txt\").read()\n",
    "\n",
    "input = \"\"\"$ cd /\n",
    "$ ls\n",
    "14848514 b.txt\n",
    "8504156 c.dat\n",
    "$ cd a\n",
    "$ ls\n",
    "29116 f\n",
    "2557 g\n",
    "62596 h.lst\n",
    "$ cd e\n",
    "$ ls\n",
    "584 i\n",
    "$ cd ..\n",
    "$ cd ..\n",
    "$ cd d\n",
    "$ ls\n",
    "4060174 j\n",
    "8033020 d.log\n",
    "5626152 d.ext\n",
    "7214296 k\"\"\"\n",
    "\n",
    "parser.parse(input)\n",
    "\n",
    "\n",
    "\n",
    "# tmap = {'RPAR' : ')', 'RSQB': ']', 'RBRACE' : '}', 'MORETHAN' : '>'}\n",
    "# points = {'RPAR' : (3,1), 'RSQB': (57,2), 'RBRACE' : (1197,3), 'MORETHAN' : (25137,4)}\n",
    "# p = [0, []]\n",
    "\n",
    "# def auto_complete(e,score):\n",
    "#     next_token = next(t for t in e.interactive_parser.accepts() if t in points.keys())\n",
    "#     score = 5*score + points[next_token][1]\n",
    "#     next_token = Token(next_token,tmap[next_token])\n",
    "    \n",
    "#     try:\n",
    "#         e.interactive_parser.feed_token(next_token)\n",
    "#         e.interactive_parser.feed_token(e.token)\n",
    "#     except Exception:\n",
    "#         score = auto_complete(e,score)\n",
    "\n",
    "#     return score\n",
    "\n",
    "# def error_handler(e):\n",
    "#     if e.token.type in points.keys(): \n",
    "#         p[0] += points[e.token.type][0]\n",
    "#     else:\n",
    "#         p[1].append(auto_complete(e,0))\n",
    "\n",
    "# for line in open(\"input.txt\").read().splitlines():\n",
    "#     try:\n",
    "#         parser.parse(line, on_error=error_handler)\n",
    "#     except:\n",
    "#         pass\n",
    "\n",
    "# print(p[0],sorted(p[1])[int(len(p[1])/2)])"
   ]
  }
 ],
 "metadata": {
  "kernelspec": {
   "display_name": "Python 3.8.13 ('base')",
   "language": "python",
   "name": "python3"
  },
  "language_info": {
   "codemirror_mode": {
    "name": "ipython",
    "version": 3
   },
   "file_extension": ".py",
   "mimetype": "text/x-python",
   "name": "python",
   "nbconvert_exporter": "python",
   "pygments_lexer": "ipython3",
   "version": "3.8.13"
  },
  "orig_nbformat": 4,
  "vscode": {
   "interpreter": {
    "hash": "6197c5ff5d04b833501a6c37bb92e3da611ff923bcc49eb0fb057ff5df1e323a"
   }
  }
 },
 "nbformat": 4,
 "nbformat_minor": 2
}
