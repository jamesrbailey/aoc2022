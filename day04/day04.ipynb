{
 "cells": [
  {
   "cell_type": "code",
   "execution_count": 30,
   "metadata": {},
   "outputs": [
    {
     "name": "stdout",
     "output_type": "stream",
     "text": [
      "914\n"
     ]
    }
   ],
   "source": [
    "path = \"example.txt\"\n",
    "path = \"input.txt\"\n",
    "input = open(path).read().splitlines()\n",
    "# print(input)\n",
    "c = 0\n",
    "for l in input:\n",
    "    l = l.split(',')\n",
    "    a1,a2 = map(int, l[0].split('-'))\n",
    "    r1 = set(range(a1,a2+1))\n",
    "    b1,b2 = map(int,l[1].split('-'))\n",
    "    r2 = set(range(b1,b2+1))\n",
    "    # print(r1,r2)\n",
    "    l = min(len(r1),len(r2))\n",
    "    l2 = len(r1 & r2)\n",
    "    if l2 > 0:\n",
    "        c += 1\n",
    "\n",
    "    # if r1 & r2\n",
    "    # print(a1,a2)\n",
    "    # print(b1,b2)\n",
    "    # print(r1,r2)\n",
    "print(c)"
   ]
  },
  {
   "cell_type": "code",
   "execution_count": 54,
   "metadata": {},
   "outputs": [
    {
     "name": "stdout",
     "output_type": "stream",
     "text": [
      "605 914\n"
     ]
    }
   ],
   "source": [
    "input = [[set(range(*([sum(a) for a in zip([int(z) for z in y.split('-')],[0,1])]))) for y in x.split(',')] for x in open(\"input.txt\").read().splitlines()]\n",
    "p1 = sum([1 if len(set.intersection(*x)) == l else 0 for x in input if (l := min(*map(len,x)))])\n",
    "p2 = sum([1 if len(set.intersection(*x)) > 0 else 0 for x in input])\n",
    "print(p1,p2)"
   ]
  }
 ],
 "metadata": {
  "kernelspec": {
   "display_name": "Python 3.8.13 ('base')",
   "language": "python",
   "name": "python3"
  },
  "language_info": {
   "codemirror_mode": {
    "name": "ipython",
    "version": 3
   },
   "file_extension": ".py",
   "mimetype": "text/x-python",
   "name": "python",
   "nbconvert_exporter": "python",
   "pygments_lexer": "ipython3",
   "version": "3.8.13"
  },
  "orig_nbformat": 4,
  "vscode": {
   "interpreter": {
    "hash": "6197c5ff5d04b833501a6c37bb92e3da611ff923bcc49eb0fb057ff5df1e323a"
   }
  }
 },
 "nbformat": 4,
 "nbformat_minor": 2
}
