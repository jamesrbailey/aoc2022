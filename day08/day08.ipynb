{
 "cells": [
  {
   "cell_type": "code",
   "execution_count": 121,
   "metadata": {},
   "outputs": [
    {
     "name": "stdout",
     "output_type": "stream",
     "text": [
      "[[3 0 3 7 3]\n",
      " [2 5 5 1 2]\n",
      " [6 5 3 3 2]\n",
      " [3 3 5 4 9]\n",
      " [3 5 3 9 0]]\n",
      "21\n"
     ]
    }
   ],
   "source": [
    "import numpy as np\n",
    "path = \"input.txt\"\n",
    "path = \"example.txt\"\n",
    "input = [[*map(int, list(x))] for x in open(path).read().splitlines()]\n",
    "input = np.array(input, dtype=np.int64)\n",
    "counted = np.ones(input.shape, dtype=np.int64)\n",
    "print(input)\n",
    "# print(counted)\n",
    "\n",
    "def check(row, c_row):\n",
    "    highest = -1\n",
    "    count = 0\n",
    "    for i,x in enumerate(row):\n",
    "        if x > highest:\n",
    "            count += c_row[i]\n",
    "            c_row[i] = 0\n",
    "            highest = x\n",
    "\n",
    "    return count\n",
    "\n",
    "p1 = 0 \n",
    "for r,row in enumerate(input):\n",
    "    c_row = counted[r]\n",
    "    # print(row, c_row)\n",
    "    p1 += check(row, c_row)\n",
    "    p1 += check(row[::-1], c_row[::-1])\n",
    "\n",
    "for r,row in enumerate(input.T):\n",
    "    c_row = counted.T[r]\n",
    "    # print(row, c_row)\n",
    "    p1 += check(row, c_row)\n",
    "    p1 += check(row[::-1], c_row[::-1])\n",
    "\n",
    "# print(check(input[0],counted[0]))\n",
    "# print(input, counted)\n",
    "print(p1)"
   ]
  },
  {
   "cell_type": "code",
   "execution_count": 156,
   "metadata": {},
   "outputs": [
    {
     "name": "stdout",
     "output_type": "stream",
     "text": [
      "1807\n"
     ]
    }
   ],
   "source": [
    "import numpy as np\n",
    "path = \"input.txt\"\n",
    "# path = \"example.txt\"\n",
    "input = [[*map(int, list(x))] for x in open(path).read().splitlines()]\n",
    "input = np.array(input, dtype=np.int64)\n",
    "counted = np.ones(input.shape, dtype=np.int64)\n",
    "# print(input)\n",
    "# print(counted)\n",
    "\n",
    "def check(row, c_row):\n",
    "    inds = np.append(np.diff(np.maximum.accumulate(row)).nonzero()[0]+1,[0])\n",
    "    count_mask = c_row[inds]\n",
    "    count = np.count_nonzero(count_mask)\n",
    "\n",
    "    c_row[inds] = 0\n",
    "    return count\n",
    "\n",
    "p1 = 0 \n",
    "for r,row in enumerate(input):\n",
    "    c_row = counted[r]\n",
    "    # print(row, c_row)\n",
    "    p1 += check(row, c_row)\n",
    "    p1 += check(row[::-1], c_row[::-1])\n",
    "\n",
    "for r,row in enumerate(input.T):\n",
    "    c_row = counted.T[r]\n",
    "    # print(row, c_row)\n",
    "    p1 += check(row, c_row)\n",
    "    p1 += check(row[::-1], c_row[::-1])\n",
    "\n",
    "# print(check(input[0],counted[0]))\n",
    "# print(input, counted)\n",
    "print(p1)"
   ]
  },
  {
   "cell_type": "code",
   "execution_count": 123,
   "metadata": {},
   "outputs": [
    {
     "name": "stdout",
     "output_type": "stream",
     "text": [
      "8\n"
     ]
    }
   ],
   "source": [
    "import numpy as np\n",
    "path = \"input.txt\"\n",
    "path = \"example.txt\"\n",
    "input = np.array([[*map(int, list(x))] for x in open(path).read().splitlines()])\n",
    "\n",
    "\n",
    "p2 = np.empty(input.shape, dtype=np.int64)\n",
    "for (r,c),h in np.ndenumerate(input):\n",
    "    p2[r,c] = np.prod([d[0][0]+1 if len(d[0]) else len(row) for row in [input[r][c+1:], input[r][:c][::-1], input.T[c][r+1:], input.T[c][:r][::-1]] if (d := np.where(row >= h))])\n",
    "\n",
    "print(np.max(p2))"
   ]
  }
 ],
 "metadata": {
  "kernelspec": {
   "display_name": "Python 3.8.13 ('base')",
   "language": "python",
   "name": "python3"
  },
  "language_info": {
   "codemirror_mode": {
    "name": "ipython",
    "version": 3
   },
   "file_extension": ".py",
   "mimetype": "text/x-python",
   "name": "python",
   "nbconvert_exporter": "python",
   "pygments_lexer": "ipython3",
   "version": "3.8.13"
  },
  "orig_nbformat": 4,
  "vscode": {
   "interpreter": {
    "hash": "6197c5ff5d04b833501a6c37bb92e3da611ff923bcc49eb0fb057ff5df1e323a"
   }
  }
 },
 "nbformat": 4,
 "nbformat_minor": 2
}
