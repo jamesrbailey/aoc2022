{
 "cells": [
  {
   "cell_type": "code",
   "execution_count": 28,
   "metadata": {},
   "outputs": [
    {
     "name": "stdout",
     "output_type": "stream",
     "text": [
      "1807.0\n"
     ]
    }
   ],
   "source": [
    "import numpy as np\n",
    "path = \"input.txt\"\n",
    "# path = \"example.txt\"\n",
    "input = [[*map(int, list(x))] for x in open(path).read().splitlines()]\n",
    "input = np.array(input)\n",
    "counted = np.ones(input.shape)\n",
    "# print(input)\n",
    "# print(counted)\n",
    "\n",
    "def check(row, c_row):\n",
    "    highest = -1\n",
    "    count = 0\n",
    "    for i,x in enumerate(row):\n",
    "        if x > highest:\n",
    "            count += c_row[i]\n",
    "            c_row[i] = 0\n",
    "            highest = x\n",
    "\n",
    "    return count\n",
    "\n",
    "p1 = 0 \n",
    "for r,row in enumerate(input):\n",
    "    c_row = counted[r]\n",
    "    # print(row, c_row)\n",
    "    p1 += check(row, c_row)\n",
    "    p1 += check(row[::-1], c_row[::-1])\n",
    "\n",
    "for r,row in enumerate(input.T):\n",
    "    c_row = counted.T[r]\n",
    "    # print(row, c_row)\n",
    "    p1 += check(row, c_row)\n",
    "    p1 += check(row[::-1], c_row[::-1])\n",
    "\n",
    "# print(check(input[0],counted[0]))\n",
    "# print(input, counted)\n",
    "print(p1)"
   ]
  },
  {
   "cell_type": "code",
   "execution_count": 46,
   "metadata": {},
   "outputs": [
    {
     "name": "stdout",
     "output_type": "stream",
     "text": [
      "480000.0\n"
     ]
    }
   ],
   "source": [
    "import numpy as np\n",
    "path = \"input.txt\"\n",
    "# path = \"example.txt\"\n",
    "input = [[*map(int, list(x))] for x in open(path).read().splitlines()]\n",
    "input = np.array(input)\n",
    "counted = np.ones(input.shape)\n",
    "# print(input)\n",
    "# print(counted)\n",
    "\n",
    "n,m = input.shape\n",
    "\n",
    "def check(h, row):\n",
    "    count = 0\n",
    "    for i,x in enumerate(row):\n",
    "        count += 1\n",
    "        if x >= h:\n",
    "            break\n",
    "    return count\n",
    "\n",
    "# check(5, input.T[2][2:])\n",
    "\n",
    "for r in range(input.shape[0]):\n",
    "    for c in range(input.shape[1]):\n",
    "        h = input[r][c]\n",
    "        row = input[r][c+1:]\n",
    "        v = check(h,row)\n",
    "        # print(v)\n",
    "        counted[r][c] *= v\n",
    "\n",
    "        row = input[r][::-1][m-c:]\n",
    "        v = check(h,row)\n",
    "        # print(v)\n",
    "        counted[r][c] *= v\n",
    "        # print(r,c)\n",
    "\n",
    "for r in range(input.T.shape[0]):\n",
    "    for c in range(input.T.shape[1]):\n",
    "        h = input.T[r][c]\n",
    "        row = input.T[r][c+1:]\n",
    "        v = check(h,row)\n",
    "        # print(v)\n",
    "        counted.T[r][c] *= v\n",
    "\n",
    "        row = input.T[r][::-1][m-c:]\n",
    "        v = check(h,row)\n",
    "        # print(v)\n",
    "        counted.T[r][c] *= v\n",
    "\n",
    "print(np.max(counted))\n",
    "\n",
    "# print(check(input[0],counted[0]))\n",
    "# print(input, counted)\n",
    "# print(p1)"
   ]
  },
  {
   "cell_type": "code",
   "execution_count": 97,
   "metadata": {},
   "outputs": [
    {
     "name": "stdout",
     "output_type": "stream",
     "text": [
      "8\n"
     ]
    }
   ],
   "source": [
    "import numpy as np\n",
    "path = \"input.txt\"\n",
    "path = \"example.txt\"\n",
    "input = [[*map(int, list(x))] for x in open(path).read().splitlines()]\n",
    "input = np.array(input)\n",
    "p2 = np.ones(input.shape, dtype=np.int64)\n",
    "\n",
    "# print(input)\n",
    "def check(h,r):\n",
    "    # print(h,r)\n",
    "    c = 0\n",
    "    for i,x in enumerate(r):\n",
    "        c += 1\n",
    "        if x >= h:\n",
    "            break\n",
    "    return c\n",
    "\n",
    "for (r,c),h in np.ndenumerate(input):\n",
    "    p2[r,c] = np.prod([check(h,row) for row in [input[r][c+1:], input[r][:c][::-1], input.T[c][r+1:], input.T[c][:r][::-1]]])\n",
    "\n",
    "print(np.max(p2))"
   ]
  },
  {
   "cell_type": "code",
   "execution_count": 117,
   "metadata": {},
   "outputs": [
    {
     "name": "stdout",
     "output_type": "stream",
     "text": [
      "8\n"
     ]
    }
   ],
   "source": [
    "import numpy as np\n",
    "path = \"input.txt\"\n",
    "path = \"example.txt\"\n",
    "input = np.array([[*map(int, list(x))] for x in open(path).read().splitlines()])\n",
    "\n",
    "\n",
    "p2 = np.ones(input.shape, dtype=np.int64)\n",
    "for (r,c),h in np.ndenumerate(input):\n",
    "    p2[r,c] = np.prod([d[0][0]+1 if len(d[0]) else len(row) for row in [input[r][c+1:], input[r][:c][::-1], input.T[c][r+1:], input.T[c][:r][::-1]] if (d := np.where(row >= h))])\n",
    "\n",
    "print(np.max(p2))"
   ]
  }
 ],
 "metadata": {
  "kernelspec": {
   "display_name": "Python 3.8.13 ('base')",
   "language": "python",
   "name": "python3"
  },
  "language_info": {
   "codemirror_mode": {
    "name": "ipython",
    "version": 3
   },
   "file_extension": ".py",
   "mimetype": "text/x-python",
   "name": "python",
   "nbconvert_exporter": "python",
   "pygments_lexer": "ipython3",
   "version": "3.8.13"
  },
  "orig_nbformat": 4,
  "vscode": {
   "interpreter": {
    "hash": "6197c5ff5d04b833501a6c37bb92e3da611ff923bcc49eb0fb057ff5df1e323a"
   }
  }
 },
 "nbformat": 4,
 "nbformat_minor": 2
}
