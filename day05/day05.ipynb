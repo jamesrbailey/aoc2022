{
 "cells": [
  {
   "cell_type": "code",
   "execution_count": 83,
   "metadata": {},
   "outputs": [
    {
     "name": "stdout",
     "output_type": "stream",
     "text": [
      "VLCWHTDSZ\n"
     ]
    }
   ],
   "source": [
    "path = \"example.txt\"\n",
    "path = \"input.txt\"\n",
    "crates,instrs = [x.splitlines() for x in open(path).read().split(\"\\n\\n\")]\n",
    "crates = [list(filter((' ').__ne__,x)) for x in list(map(list,zip(*reversed([[l[i] for i in range(1, len(l), 4)] for l in crates[:-1]]))))]\n",
    "instrs = [(int(s[1]),int(s[3])-1,int(s[5])-1) for x in instrs if (s := x.split(' '))]\n",
    "\n",
    "\n",
    "for n,s,d in instrs:\n",
    "    # print(crates)\n",
    "    # print(n,s,d)\n",
    "    # print((crates[s][-n:]))\n",
    "    # crates[d] += reversed(crates[s][-n:])\n",
    "    crates[d] += crates[s][-n:]\n",
    "    del crates[s][-n:]\n",
    "tops = ''.join([x[-1] for x in crates])\n",
    "print(tops)"
   ]
  },
  {
   "cell_type": "code",
   "execution_count": 12,
   "metadata": {},
   "outputs": [
    {
     "ename": "TypeError",
     "evalue": "expected string or bytes-like object",
     "output_type": "error",
     "traceback": [
      "\u001b[1;31m---------------------------------------------------------------------------\u001b[0m",
      "\u001b[1;31mTypeError\u001b[0m                                 Traceback (most recent call last)",
      "Cell \u001b[1;32mIn [12], line 7\u001b[0m\n\u001b[0;32m      5\u001b[0m crates \u001b[39m=\u001b[39m [\u001b[39mlist\u001b[39m(\u001b[39mfilter\u001b[39m((\u001b[39m'\u001b[39m\u001b[39m \u001b[39m\u001b[39m'\u001b[39m)\u001b[39m.\u001b[39m\u001b[39m__ne__\u001b[39m,x)) \u001b[39mfor\u001b[39;00m x \u001b[39min\u001b[39;00m \u001b[39mlist\u001b[39m(\u001b[39mmap\u001b[39m(\u001b[39mlist\u001b[39m,\u001b[39mzip\u001b[39m(\u001b[39m*\u001b[39m\u001b[39mreversed\u001b[39m([[l[i] \u001b[39mfor\u001b[39;00m i \u001b[39min\u001b[39;00m \u001b[39mrange\u001b[39m(\u001b[39m1\u001b[39m, \u001b[39mlen\u001b[39m(l), \u001b[39m4\u001b[39m)] \u001b[39mfor\u001b[39;00m l \u001b[39min\u001b[39;00m crates[:\u001b[39m-\u001b[39m\u001b[39m1\u001b[39m]]))))]\n\u001b[0;32m      6\u001b[0m instrs \u001b[39m=\u001b[39m [(\u001b[39mint\u001b[39m(s[\u001b[39m1\u001b[39m]),\u001b[39mint\u001b[39m(s[\u001b[39m3\u001b[39m])\u001b[39m-\u001b[39m\u001b[39m1\u001b[39m,\u001b[39mint\u001b[39m(s[\u001b[39m5\u001b[39m])\u001b[39m-\u001b[39m\u001b[39m1\u001b[39m) \u001b[39mfor\u001b[39;00m x \u001b[39min\u001b[39;00m instrs \u001b[39mif\u001b[39;00m (s \u001b[39m:=\u001b[39m x\u001b[39m.\u001b[39msplit(\u001b[39m'\u001b[39m\u001b[39m \u001b[39m\u001b[39m'\u001b[39m))]\n\u001b[1;32m----> 7\u001b[0m instrs2 \u001b[39m=\u001b[39m [(\u001b[39mint\u001b[39m(s[\u001b[39m0\u001b[39m]),\u001b[39mint\u001b[39m(s[\u001b[39m1\u001b[39m])\u001b[39m-\u001b[39m\u001b[39m1\u001b[39m,\u001b[39mint\u001b[39m(s[\u001b[39m2\u001b[39m])\u001b[39m-\u001b[39m\u001b[39m1\u001b[39m) \u001b[39mfor\u001b[39;00m x \u001b[39min\u001b[39;00m instrs \u001b[39mif\u001b[39;00m (s \u001b[39m:=\u001b[39m re\u001b[39m.\u001b[39msearch(\u001b[39m\"\u001b[39m\u001b[39m.*(\u001b[39m\u001b[39m\\\u001b[39m\u001b[39md+).*(\u001b[39m\u001b[39m\\\u001b[39m\u001b[39md+).*(\u001b[39m\u001b[39m\\\u001b[39m\u001b[39md+)\u001b[39m\u001b[39m\"\u001b[39m, x)\u001b[39m.\u001b[39mgroups())]\n\u001b[0;32m      8\u001b[0m \u001b[39mprint\u001b[39m(instrs)\n\u001b[0;32m     10\u001b[0m \u001b[39mdef\u001b[39;00m \u001b[39msolve\u001b[39m(c,rev):\n",
      "Cell \u001b[1;32mIn [12], line 7\u001b[0m, in \u001b[0;36m<listcomp>\u001b[1;34m(.0)\u001b[0m\n\u001b[0;32m      5\u001b[0m crates \u001b[39m=\u001b[39m [\u001b[39mlist\u001b[39m(\u001b[39mfilter\u001b[39m((\u001b[39m'\u001b[39m\u001b[39m \u001b[39m\u001b[39m'\u001b[39m)\u001b[39m.\u001b[39m\u001b[39m__ne__\u001b[39m,x)) \u001b[39mfor\u001b[39;00m x \u001b[39min\u001b[39;00m \u001b[39mlist\u001b[39m(\u001b[39mmap\u001b[39m(\u001b[39mlist\u001b[39m,\u001b[39mzip\u001b[39m(\u001b[39m*\u001b[39m\u001b[39mreversed\u001b[39m([[l[i] \u001b[39mfor\u001b[39;00m i \u001b[39min\u001b[39;00m \u001b[39mrange\u001b[39m(\u001b[39m1\u001b[39m, \u001b[39mlen\u001b[39m(l), \u001b[39m4\u001b[39m)] \u001b[39mfor\u001b[39;00m l \u001b[39min\u001b[39;00m crates[:\u001b[39m-\u001b[39m\u001b[39m1\u001b[39m]]))))]\n\u001b[0;32m      6\u001b[0m instrs \u001b[39m=\u001b[39m [(\u001b[39mint\u001b[39m(s[\u001b[39m1\u001b[39m]),\u001b[39mint\u001b[39m(s[\u001b[39m3\u001b[39m])\u001b[39m-\u001b[39m\u001b[39m1\u001b[39m,\u001b[39mint\u001b[39m(s[\u001b[39m5\u001b[39m])\u001b[39m-\u001b[39m\u001b[39m1\u001b[39m) \u001b[39mfor\u001b[39;00m x \u001b[39min\u001b[39;00m instrs \u001b[39mif\u001b[39;00m (s \u001b[39m:=\u001b[39m x\u001b[39m.\u001b[39msplit(\u001b[39m'\u001b[39m\u001b[39m \u001b[39m\u001b[39m'\u001b[39m))]\n\u001b[1;32m----> 7\u001b[0m instrs2 \u001b[39m=\u001b[39m [(\u001b[39mint\u001b[39m(s[\u001b[39m0\u001b[39m]),\u001b[39mint\u001b[39m(s[\u001b[39m1\u001b[39m])\u001b[39m-\u001b[39m\u001b[39m1\u001b[39m,\u001b[39mint\u001b[39m(s[\u001b[39m2\u001b[39m])\u001b[39m-\u001b[39m\u001b[39m1\u001b[39m) \u001b[39mfor\u001b[39;00m x \u001b[39min\u001b[39;00m instrs \u001b[39mif\u001b[39;00m (s \u001b[39m:=\u001b[39m re\u001b[39m.\u001b[39;49msearch(\u001b[39m\"\u001b[39;49m\u001b[39m.*(\u001b[39;49m\u001b[39m\\\u001b[39;49m\u001b[39md+).*(\u001b[39;49m\u001b[39m\\\u001b[39;49m\u001b[39md+).*(\u001b[39;49m\u001b[39m\\\u001b[39;49m\u001b[39md+)\u001b[39;49m\u001b[39m\"\u001b[39;49m, x)\u001b[39m.\u001b[39mgroups())]\n\u001b[0;32m      8\u001b[0m \u001b[39mprint\u001b[39m(instrs)\n\u001b[0;32m     10\u001b[0m \u001b[39mdef\u001b[39;00m \u001b[39msolve\u001b[39m(c,rev):\n",
      "File \u001b[1;32mc:\\Users\\JamesBailey\\anaconda3\\lib\\re.py:201\u001b[0m, in \u001b[0;36msearch\u001b[1;34m(pattern, string, flags)\u001b[0m\n\u001b[0;32m    198\u001b[0m \u001b[39mdef\u001b[39;00m \u001b[39msearch\u001b[39m(pattern, string, flags\u001b[39m=\u001b[39m\u001b[39m0\u001b[39m):\n\u001b[0;32m    199\u001b[0m     \u001b[39m\"\"\"Scan through string looking for a match to the pattern, returning\u001b[39;00m\n\u001b[0;32m    200\u001b[0m \u001b[39m    a Match object, or None if no match was found.\"\"\"\u001b[39;00m\n\u001b[1;32m--> 201\u001b[0m     \u001b[39mreturn\u001b[39;00m _compile(pattern, flags)\u001b[39m.\u001b[39;49msearch(string)\n",
      "\u001b[1;31mTypeError\u001b[0m: expected string or bytes-like object"
     ]
    }
   ],
   "source": [
    "from copy import deepcopy\n",
    "import re\n",
    "\n",
    "crates,instrs = [x.splitlines() for x in open(\"example.txt\").read().split(\"\\n\\n\")]\n",
    "crates = [list(filter((' ').__ne__,x)) for x in list(map(list,zip(*reversed([[l[i] for i in range(1, len(l), 4)] for l in crates[:-1]]))))]\n",
    "instrs = [(int(s[1]),int(s[3])-1,int(s[5])-1) for x in instrs if (s := x.split(' '))]\n",
    "\n",
    "def solve(c,rev):\n",
    "    for n,s,d in instrs:\n",
    "        c[d] += reversed(c[s][-n:]) if rev else c[s][-n:]\n",
    "        del c[s][-n:]\n",
    "    return ''.join(x[-1] for x in c)\n",
    "\n",
    "print(solve(deepcopy(crates),0), solve(deepcopy(crates),1))"
   ]
  }
 ],
 "metadata": {
  "kernelspec": {
   "display_name": "Python 3.8.13 ('base')",
   "language": "python",
   "name": "python3"
  },
  "language_info": {
   "codemirror_mode": {
    "name": "ipython",
    "version": 3
   },
   "file_extension": ".py",
   "mimetype": "text/x-python",
   "name": "python",
   "nbconvert_exporter": "python",
   "pygments_lexer": "ipython3",
   "version": "3.8.13"
  },
  "orig_nbformat": 4,
  "vscode": {
   "interpreter": {
    "hash": "6197c5ff5d04b833501a6c37bb92e3da611ff923bcc49eb0fb057ff5df1e323a"
   }
  }
 },
 "nbformat": 4,
 "nbformat_minor": 2
}
