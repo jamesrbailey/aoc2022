{
 "cells": [
  {
   "cell_type": "code",
   "execution_count": 83,
   "metadata": {},
   "outputs": [
    {
     "name": "stdout",
     "output_type": "stream",
     "text": [
      "VLCWHTDSZ\n"
     ]
    }
   ],
   "source": [
    "path = \"example.txt\"\n",
    "path = \"input.txt\"\n",
    "crates,instrs = [x.splitlines() for x in open(path).read().split(\"\\n\\n\")]\n",
    "crates = [list(filter((' ').__ne__,x)) for x in list(map(list,zip(*reversed([[l[i] for i in range(1, len(l), 4)] for l in crates[:-1]]))))]\n",
    "instrs = [(int(s[1]),int(s[3])-1,int(s[5])-1) for x in instrs if (s := x.split(' '))]\n",
    "\n",
    "\n",
    "for n,s,d in instrs:\n",
    "    # print(crates)\n",
    "    # print(n,s,d)\n",
    "    # print((crates[s][-n:]))\n",
    "    # crates[d] += reversed(crates[s][-n:])\n",
    "    crates[d] += crates[s][-n:]\n",
    "    del crates[s][-n:]\n",
    "tops = ''.join([x[-1] for x in crates])\n",
    "print(tops)"
   ]
  },
  {
   "cell_type": "code",
   "execution_count": 22,
   "metadata": {},
   "outputs": [
    {
     "name": "stdout",
     "output_type": "stream",
     "text": [
      "VLCWHTDSZ TBVFVDZPN\n"
     ]
    }
   ],
   "source": [
    "from copy import deepcopy\n",
    "\n",
    "crates,instrs = [x.splitlines() for x in open(\"input.txt\").read().split(\"\\n\\n\")]\n",
    "crates = [[*filter((' ').__ne__,x)] for x in list(map(list,zip(*reversed([[l[i] for i in range(1, len(l), 4)] for l in crates[:-1]]))))]\n",
    "instrs = [[*map(sum,zip(map(int,s),[0,-1,-1]))] for x in instrs if (s := x.split(' ')[1::2])]\n",
    "\n",
    "def solve(c,rev):\n",
    "    for n,s,d in instrs:\n",
    "        c[d] += reversed(c[s][-n:]) if rev else c[s][-n:]\n",
    "        del c[s][-n:]\n",
    "    return ''.join(x[-1] for x in c)\n",
    "\n",
    "print(solve(deepcopy(crates),0), solve(deepcopy(crates),1))"
   ]
  }
 ],
 "metadata": {
  "kernelspec": {
   "display_name": "Python 3.8.13 ('base')",
   "language": "python",
   "name": "python3"
  },
  "language_info": {
   "codemirror_mode": {
    "name": "ipython",
    "version": 3
   },
   "file_extension": ".py",
   "mimetype": "text/x-python",
   "name": "python",
   "nbconvert_exporter": "python",
   "pygments_lexer": "ipython3",
   "version": "3.8.13"
  },
  "orig_nbformat": 4,
  "vscode": {
   "interpreter": {
    "hash": "6197c5ff5d04b833501a6c37bb92e3da611ff923bcc49eb0fb057ff5df1e323a"
   }
  }
 },
 "nbformat": 4,
 "nbformat_minor": 2
}
