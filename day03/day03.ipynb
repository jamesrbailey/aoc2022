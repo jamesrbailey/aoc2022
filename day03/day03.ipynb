{
 "cells": [
  {
   "cell_type": "code",
   "execution_count": 23,
   "metadata": {},
   "outputs": [
    {
     "name": "stdout",
     "output_type": "stream",
     "text": [
      "7872\n"
     ]
    }
   ],
   "source": [
    "path = \"example.txt\"\n",
    "path = \"input.txt\"\n",
    "input = [list(map(lambda a : ord(a) +((-ord('a')+1) if a.islower() else (-ord('A')+27)), list(x))) for x in open(path).read().splitlines()]\n",
    "# print(input)\n",
    "s = 0\n",
    "for p in input:\n",
    "    l = len(p)//2\n",
    "    s1 = set(p[:l])\n",
    "    s2 = set(p[l:])\n",
    "    s += sum(s1.intersection(s2))\n",
    "print(s)\n"
   ]
  },
  {
   "cell_type": "code",
   "execution_count": 69,
   "metadata": {},
   "outputs": [
    {
     "name": "stdout",
     "output_type": "stream",
     "text": [
      "7872 2497\n"
     ]
    }
   ],
   "source": [
    "input = [[ord(a) +((-ord('a')+1) if a.islower() else (-ord('A')+27)) for a in x] for x in open(\"input.txt\").read().splitlines()]\n",
    "p1 = sum([sum(set(p[:l]) & set(p[l:])) for p in input if (l := len(p)//2)])\n",
    "p2 = sum([sum(set.intersection(*map(set,x))) for x in zip(*[iter(input)]*3)])\n",
    "print(p1,p2)\n"
   ]
  },
  {
   "cell_type": "code",
   "execution_count": 63,
   "metadata": {},
   "outputs": [
    {
     "name": "stdout",
     "output_type": "stream",
     "text": [
      "[0, 2, 4, 6, 8]\n"
     ]
    }
   ],
   "source": [
    "l = [x*y for x in range(5) if (y := 2)]\n",
    "print(l)"
   ]
  }
 ],
 "metadata": {
  "kernelspec": {
   "display_name": "Python 3.8.13 ('base')",
   "language": "python",
   "name": "python3"
  },
  "language_info": {
   "codemirror_mode": {
    "name": "ipython",
    "version": 3
   },
   "file_extension": ".py",
   "mimetype": "text/x-python",
   "name": "python",
   "nbconvert_exporter": "python",
   "pygments_lexer": "ipython3",
   "version": "3.8.13"
  },
  "orig_nbformat": 4,
  "vscode": {
   "interpreter": {
    "hash": "6197c5ff5d04b833501a6c37bb92e3da611ff923bcc49eb0fb057ff5df1e323a"
   }
  }
 },
 "nbformat": 4,
 "nbformat_minor": 2
}
