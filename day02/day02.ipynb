{
 "cells": [
  {
   "cell_type": "code",
   "execution_count": 85,
   "metadata": {},
   "outputs": [
    {
     "name": "stdout",
     "output_type": "stream",
     "text": [
      "10624 14060\n"
     ]
    }
   ],
   "source": [
    "input = [(ord(x)-ord('A'), ord(y)-ord('X')) for x,y in [x.split() for x in open(\"input.txt\").read().splitlines()]]\n",
    "p1 = sum([1+y+((y-x+1)%3)*3 for x,y in input])\n",
    "p2 = sum([1+(x+y-1)%3+y*3 for x,y in input])\n",
    "print(p1,p2)\n",
    "\n"
   ]
  },
  {
   "cell_type": "code",
   "execution_count": 104,
   "metadata": {},
   "outputs": [
    {
     "data": {
      "text/plain": [
       "10624"
      ]
     },
     "execution_count": 104,
     "metadata": {},
     "output_type": "execute_result"
    }
   ],
   "source": [
    "import re\n",
    "input = open(\"input.txt\").read()\n",
    "input = re.sub(\"A X\", \"3+1\", input)\n",
    "input = re.sub(\"A Y\", \"6+2\", input)\n",
    "input = re.sub(\"A Z\", \"0+3\", input)\n",
    "input = re.sub(\"B X\", \"0+1\", input)\n",
    "input = re.sub(\"B Y\", \"3+2\", input)\n",
    "input = re.sub(\"B Z\", \"6+3\", input)\n",
    "input = re.sub(\"C X\", \"6+1\", input)\n",
    "input = re.sub(\"C Y\", \"0+2\", input)\n",
    "input = re.sub(\"C Z\", \"3+3\", input)\n",
    "input = re.sub(\"\\n\",    \"+\", input)\n",
    "eval(input)"
   ]
  }
 ],
 "metadata": {
  "kernelspec": {
   "display_name": "Python 3.8.13 ('base')",
   "language": "python",
   "name": "python3"
  },
  "language_info": {
   "codemirror_mode": {
    "name": "ipython",
    "version": 3
   },
   "file_extension": ".py",
   "mimetype": "text/x-python",
   "name": "python",
   "nbconvert_exporter": "python",
   "pygments_lexer": "ipython3",
   "version": "3.8.13"
  },
  "orig_nbformat": 4,
  "vscode": {
   "interpreter": {
    "hash": "6197c5ff5d04b833501a6c37bb92e3da611ff923bcc49eb0fb057ff5df1e323a"
   }
  }
 },
 "nbformat": 4,
 "nbformat_minor": 2
}
