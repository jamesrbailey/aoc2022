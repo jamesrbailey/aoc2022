{
 "cells": [
  {
   "cell_type": "code",
   "execution_count": 36,
   "metadata": {},
   "outputs": [
    {
     "name": "stdout",
     "output_type": "stream",
     "text": [
      "26\n",
      "['old * 13', 'old + 7', 'old + 2', 'old * 2', 'old * old', 'old + 6', 'old + 1', 'old + 8']\n",
      "[['Monkey 0:', '  Starting items: 91, 54, 70, 61, 64, 64, 60, 85', '  Operation: new = old * 13', '  Test: divisible by 2', '    If true: throw to monkey 5', '    If false: throw to monkey 2'], ['Monkey 1:', '  Starting items: 82', '  Operation: new = old + 7', '  Test: divisible by 13', '    If true: throw to monkey 4', '    If false: throw to monkey 3'], ['Monkey 2:', '  Starting items: 84, 93, 70', '  Operation: new = old + 2', '  Test: divisible by 5', '    If true: throw to monkey 5', '    If false: throw to monkey 1'], ['Monkey 3:', '  Starting items: 78, 56, 85, 93', '  Operation: new = old * 2', '  Test: divisible by 3', '    If true: throw to monkey 6', '    If false: throw to monkey 7'], ['Monkey 4:', '  Starting items: 64, 57, 81, 95, 52, 71, 58', '  Operation: new = old * old', '  Test: divisible by 11', '    If true: throw to monkey 7', '    If false: throw to monkey 3'], ['Monkey 5:', '  Starting items: 58, 71, 96, 58, 68, 90', '  Operation: new = old + 6', '  Test: divisible by 17', '    If true: throw to monkey 4', '    If false: throw to monkey 1'], ['Monkey 6:', '  Starting items: 56, 99, 89, 97, 81', '  Operation: new = old + 1', '  Test: divisible by 7', '    If true: throw to monkey 0', '    If false: throw to monkey 2'], ['Monkey 7:', '  Starting items: 68, 72', '  Operation: new = old + 8', '  Test: divisible by 19', '    If true: throw to monkey 6', '    If false: throw to monkey 0']]\n",
      "[[91, 54, 70, 61, 64, 64, 60, 85], [82], [84, 93, 70], [78, 56, 85, 93], [64, 57, 81, 95, 52, 71, 58], [58, 71, 96, 58, 68, 90], [56, 99, 89, 97, 81], [68, 72]]\n",
      "[<function <lambda> at 0x00000213333B08B0>, <function <lambda> at 0x00000213333B0430>, <function <lambda> at 0x00000213333B0940>, <function <lambda> at 0x00000213333B0310>, <function <lambda> at 0x00000213333B01F0>, <function <lambda> at 0x00000213333B0280>, <function <lambda> at 0x00000213333B0670>, <function <lambda> at 0x00000213333B0700>]\n",
      "[(2, 5, 2), (13, 4, 3), (5, 5, 1), (3, 6, 7), (11, 7, 3), (17, 4, 1), (7, 0, 2), (19, 6, 0)]\n",
      "[[3, 3, 3, 3, 3, 3, 3, 3, 3, 3, 3, 3, 3, 3, 3, 3, 3, 3, 3, 3, 3, 3, 3], [3, 3, 3, 3, 3, 3, 3, 3, 3, 3, 3, 3, 3], [], [], [], [], [], []]\n",
      "[314, 338, 326, 348, 14, 286, 29, 328]\n",
      "117624\n"
     ]
    }
   ],
   "source": [
    "import numpy as np\n",
    "\n",
    "path = \"input.txt\"\n",
    "# path = \"example.txt\"\n",
    "input = [x.splitlines() for x in open(path).read().split(\"\\n\\n\")]\n",
    "\n",
    "print(len(\"  Operation: new = old * 1\"))\n",
    "print([(x[2][19:]) for x in input])\n",
    "\n",
    "all_has = [[*map(int,x[1][17:].split(', '))] for x in input]\n",
    "all_op = [eval(\"lambda old :\"+v) for x in input if (v := (x[2][19:]))]\n",
    "all_test = [(int(x[3][-2:]),int(x[4][-1]),int(x[5][-1])) for x in input]\n",
    "counts = len(all_has) * [0]\n",
    "\n",
    "print(input)\n",
    "print(all_has)\n",
    "print(all_op)\n",
    "print(all_test)\n",
    "\n",
    "for r in range(20):\n",
    "    for i,(has,op,test) in enumerate(zip(all_has,all_op,all_test)):\n",
    "        # print(has,op,test)\n",
    "        while has:\n",
    "            counts[i] += 1\n",
    "            # print('has',has)\n",
    "            h = has.pop(0)\n",
    "            # print(h)\n",
    "            h = op(h)\n",
    "            # print(h)\n",
    "            h //= 3\n",
    "            # print(h)\n",
    "            to = test[1+(h%test[0]!=0)]\n",
    "            # print(to)\n",
    "            all_has[to].append(h)\n",
    "            # print('has',has)\n",
    "            #increase\n",
    "            #decrease\n",
    "            #test&throw\n",
    "\n",
    "print(all_has)\n",
    "print(counts)\n",
    "s = sorted(counts)\n",
    "p1 = s[-1]*s[-2]\n",
    "print(p1)\n",
    "# f = ops[0]\n",
    "# print( f(2) )"
   ]
  },
  {
   "cell_type": "code",
   "execution_count": 41,
   "metadata": {},
   "outputs": [
    {
     "name": "stdout",
     "output_type": "stream",
     "text": [
      "26\n",
      "['old * 13', 'old + 7', 'old + 2', 'old * 2', 'old * old', 'old + 6', 'old + 1', 'old + 8']\n",
      "9699690\n",
      "[['Monkey 0:', '  Starting items: 91, 54, 70, 61, 64, 64, 60, 85', '  Operation: new = old * 13', '  Test: divisible by 2', '    If true: throw to monkey 5', '    If false: throw to monkey 2'], ['Monkey 1:', '  Starting items: 82', '  Operation: new = old + 7', '  Test: divisible by 13', '    If true: throw to monkey 4', '    If false: throw to monkey 3'], ['Monkey 2:', '  Starting items: 84, 93, 70', '  Operation: new = old + 2', '  Test: divisible by 5', '    If true: throw to monkey 5', '    If false: throw to monkey 1'], ['Monkey 3:', '  Starting items: 78, 56, 85, 93', '  Operation: new = old * 2', '  Test: divisible by 3', '    If true: throw to monkey 6', '    If false: throw to monkey 7'], ['Monkey 4:', '  Starting items: 64, 57, 81, 95, 52, 71, 58', '  Operation: new = old * old', '  Test: divisible by 11', '    If true: throw to monkey 7', '    If false: throw to monkey 3'], ['Monkey 5:', '  Starting items: 58, 71, 96, 58, 68, 90', '  Operation: new = old + 6', '  Test: divisible by 17', '    If true: throw to monkey 4', '    If false: throw to monkey 1'], ['Monkey 6:', '  Starting items: 56, 99, 89, 97, 81', '  Operation: new = old + 1', '  Test: divisible by 7', '    If true: throw to monkey 0', '    If false: throw to monkey 2'], ['Monkey 7:', '  Starting items: 68, 72', '  Operation: new = old + 8', '  Test: divisible by 19', '    If true: throw to monkey 6', '    If false: throw to monkey 0']]\n",
      "[[91, 54, 70, 61, 64, 64, 60, 85], [82], [84, 93, 70], [78, 56, 85, 93], [64, 57, 81, 95, 52, 71, 58], [58, 71, 96, 58, 68, 90], [56, 99, 89, 97, 81], [68, 72]]\n",
      "[<function <lambda> at 0x00000213333B00D0>, <function <lambda> at 0x00000213333B0040>, <function <lambda> at 0x00000213333B0550>, <function <lambda> at 0x00000213333B0310>, <function <lambda> at 0x00000213333B01F0>, <function <lambda> at 0x00000213333B0280>, <function <lambda> at 0x00000213333B0670>, <function <lambda> at 0x00000213333B0160>]\n",
      "[(2, 5, 2), (13, 4, 3), (5, 5, 1), (3, 6, 7), (11, 7, 3), (17, 4, 1), (7, 0, 2), (19, 6, 0)]\n",
      "[[944536, 4007596, 9623206, 5539126, 4632610, 4632610, 3138208, 3138208, 199834, 8878504, 367089, 877599, 8024739], [7324709, 177569, 2579284, 2025796, 4067836, 2950564, 2950564, 7545154, 1997950, 1997950, 8723968, 5660908, 355161, 4439241, 4949751], [355153, 355153], [2316301, 2316301, 9463441, 7967479, 9482005, 292825], [], [], [], []]\n",
      "[119979, 139947, 40008, 119995, 99986, 119967, 20018, 119992]\n",
      "16792940265\n"
     ]
    }
   ],
   "source": [
    "import numpy as np\n",
    "\n",
    "path = \"input.txt\"\n",
    "# path = \"example.txt\"\n",
    "input = [x.splitlines() for x in open(path).read().split(\"\\n\\n\")]\n",
    "\n",
    "print(len(\"  Operation: new = old * 1\"))\n",
    "print([(x[2][19:]) for x in input])\n",
    "\n",
    "all_has = [[*map(int,x[1][17:].split(', '))] for x in input]\n",
    "all_op = [eval(\"lambda old :\"+v) for x in input if (v := (x[2][19:]))]\n",
    "all_test = [(int(x[3][-2:]),int(x[4][-1]),int(x[5][-1])) for x in input]\n",
    "counts = len(all_has) * [0]\n",
    "\n",
    "# print(all_has)\n",
    "\n",
    "common = int(np.prod([x[0] for x in all_test]))\n",
    "print(common)\n",
    "\n",
    "print(input)\n",
    "print(all_has)\n",
    "print(all_op)\n",
    "print(all_test)\n",
    "\n",
    "for r in range(10000):\n",
    "# for r in range(20):\n",
    "    for i in range(len(all_op)):\n",
    "        has = all_has[i]\n",
    "        op = all_op[i]\n",
    "        test = all_test[i]\n",
    "        # print(has,op,test)\n",
    "        while len(has) > 0:\n",
    "            counts[i] += 1\n",
    "            h = has.pop(0)\n",
    "            h = op(h)\n",
    "            h = h % common\n",
    "            # print(h)\n",
    "            # print(h)\n",
    "            to = test[1+(h%test[0]!=0)]\n",
    "            all_has[to].append(h)\n",
    "\n",
    "print(all_has)\n",
    "print(counts)\n",
    "s = sorted(counts)\n",
    "p2 = s[-1]*s[-2]\n",
    "print(p2)"
   ]
  }
 ],
 "metadata": {
  "kernelspec": {
   "display_name": "Python 3.8.13 ('base')",
   "language": "python",
   "name": "python3"
  },
  "language_info": {
   "codemirror_mode": {
    "name": "ipython",
    "version": 3
   },
   "file_extension": ".py",
   "mimetype": "text/x-python",
   "name": "python",
   "nbconvert_exporter": "python",
   "pygments_lexer": "ipython3",
   "version": "3.8.13"
  },
  "orig_nbformat": 4,
  "vscode": {
   "interpreter": {
    "hash": "6197c5ff5d04b833501a6c37bb92e3da611ff923bcc49eb0fb057ff5df1e323a"
   }
  }
 },
 "nbformat": 4,
 "nbformat_minor": 2
}
